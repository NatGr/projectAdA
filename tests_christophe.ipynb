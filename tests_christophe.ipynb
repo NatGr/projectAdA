{
 "cells": [
  {
   "cell_type": "code",
   "execution_count": 1,
   "metadata": {},
   "outputs": [],
   "source": [
    "import pandas as pd\n",
    "import numpy as np\n",
    "import scipy as sp\n",
    "import os\n",
    "import math\n",
    "import matplotlib.pyplot as plt\n",
    "%matplotlib inline\n",
    "import seaborn as sns\n",
    "sns.set_context(\"notebook\")\n",
    "from scipy.stats import norm\n",
    "from sklearn.cluster import KMeans\n",
    "import pylab \n",
    "import scipy.stats as stats\n",
    "import networkx as nx\n",
    "\n",
    "DATA_DIR = 'data'"
   ]
  },
  {
   "cell_type": "code",
   "execution_count": 2,
   "metadata": {},
   "outputs": [],
   "source": [
    "# load the mean tone a country has about itself\n",
    "country_to_country_view = pd.read_csv(os.path.join(DATA_DIR, 'country_to_country_view.csv')).dropna()  # 3 rows have no mention_country\n",
    "country_inner_view = pd.read_csv(os.path.join(DATA_DIR, 'country_inner_view.csv'))\n",
    "country_outer_view = pd.read_csv(os.path.join(DATA_DIR, 'country_outer_view.csv'))\n",
    "country_inner_type_view = pd.read_csv(os.path.join(DATA_DIR, 'country_inner_type_view.csv'))\n",
    "country_outer_type_view = pd.read_csv(os.path.join(DATA_DIR, 'country_outer_type_view.csv'))\n",
    "country_to_type_view = pd.read_csv(os.path.join(DATA_DIR, 'country_to_country_type_view.csv'))\n",
    "media_to_country_view = pd.read_csv(os.path.join(DATA_DIR, 'media_to_country_view.csv.zip'))"
   ]
  },
  {
   "cell_type": "markdown",
   "metadata": {},
   "source": [
    "##EXPLORATION"
   ]
  },
  {
   "cell_type": "markdown",
   "metadata": {},
   "source": [
    "In order to better understand our dataset, it’s important to take into account the count of mentions of each country. In fact we have to be very careful when we will conclude about a phenomenon because a small count of count_event for a country can lead us down to a wrong path."
   ]
  },
  {
   "cell_type": "code",
   "execution_count": 7,
   "metadata": {},
   "outputs": [
    {
     "data": {
      "text/html": [
       "<div>\n",
       "<style scoped>\n",
       "    .dataframe tbody tr th:only-of-type {\n",
       "        vertical-align: middle;\n",
       "    }\n",
       "\n",
       "    .dataframe tbody tr th {\n",
       "        vertical-align: top;\n",
       "    }\n",
       "\n",
       "    .dataframe thead th {\n",
       "        text-align: right;\n",
       "    }\n",
       "</style>\n",
       "<table border=\"1\" class=\"dataframe\">\n",
       "  <thead>\n",
       "    <tr style=\"text-align: right;\">\n",
       "      <th></th>\n",
       "      <th>total country</th>\n",
       "      <th>number of mentions</th>\n",
       "    </tr>\n",
       "  </thead>\n",
       "  <tbody>\n",
       "    <tr>\n",
       "      <th>0</th>\n",
       "      <td>5</td>\n",
       "      <td>less than ten thousand</td>\n",
       "    </tr>\n",
       "    <tr>\n",
       "      <th>1</th>\n",
       "      <td>29</td>\n",
       "      <td>between ten thousand and hundred thousand</td>\n",
       "    </tr>\n",
       "    <tr>\n",
       "      <th>2</th>\n",
       "      <td>102</td>\n",
       "      <td>between a hundred thousand  and one million</td>\n",
       "    </tr>\n",
       "    <tr>\n",
       "      <th>3</th>\n",
       "      <td>47</td>\n",
       "      <td>more than one million mentions</td>\n",
       "    </tr>\n",
       "  </tbody>\n",
       "</table>\n",
       "</div>"
      ],
      "text/plain": [
       "  total country                            number of mentions\n",
       "0             5                       less than ten thousand \n",
       "1            29   between ten thousand and hundred thousand  \n",
       "2           102  between a hundred thousand  and one million \n",
       "3            47                more than one million mentions"
      ]
     },
     "execution_count": 7,
     "metadata": {},
     "output_type": "execute_result"
    }
   ],
   "source": [
    "# count the event by interval\n",
    "\n",
    "# create a dataframe with two column, country and interval\n",
    "count_event_by_interval = pd.DataFrame(columns=['country','interval'])\n",
    "# we take all the possible name for a country\n",
    "country = country_inner_view[\"country\"].values\n",
    "# for each country\n",
    "for i in country:\n",
    "        # we compute the total count_mentions from the outer_view and inner_view\n",
    "        total_count_mention = country_outer_view[country_outer_view[\"country\"] == i][\"count_mentions\"].values + country_inner_view[\"count_mentions\"][country_inner_view[\"country\"] == i].values\n",
    "        if (total_count_mention < 10000):\n",
    "            value = 0\n",
    "        if ( 9999 < total_count_mention < 100000):\n",
    "            value = 1\n",
    "        if (99999 < total_count_mention < 10000000 ) :\n",
    "            value = 2\n",
    "        if (999999 < total_count_mention ) :\n",
    "            value = 3\n",
    "        count_event_by_interval = count_event_by_interval.append({'country': i, 'interval' : value}, ignore_index=True)\n",
    "\n",
    "\n",
    "# variable initialization\n",
    "val_0=0\n",
    "val_1=0\n",
    "val_2=0\n",
    "val_3=0\n",
    "\n",
    "for i in country :\n",
    "    if (count_event_by_interval[count_event_by_interval[\"country\"]==i][\"interval\"].values == 0 ):\n",
    "        val_0 = val_0 +1\n",
    "    if (count_event_by_interval[count_event_by_interval[\"country\"]==i][\"interval\"].values == 1 ):\n",
    "        val_1 = val_1 +1\n",
    "    if (count_event_by_interval[count_event_by_interval[\"country\"]==i][\"interval\"].values == 2 ):\n",
    "        val_2 = val_2 +1\n",
    "    if (count_event_by_interval[count_event_by_interval[\"country\"]==i][\"interval\"].values == 3 ):\n",
    "        val_3 = val_3 +1\n",
    "\n",
    "# create a dataframe for the plot\n",
    "final_count_mentions = pd.DataFrame(columns=['total country','number of mentions'])\n",
    "final_count_mentions = final_count_mentions.append({'total country': val_0, 'number of mentions' : \"less than ten thousand \"}, ignore_index=True)\n",
    "final_count_mentions = final_count_mentions.append({'total country': val_1, 'number of mentions' : \"between ten thousand and hundred thousand  \"}, ignore_index=True)\n",
    "final_count_mentions = final_count_mentions.append({'total country': val_2, 'number of mentions' : \"between a hundred thousand  and one million \"}, ignore_index=True)\n",
    "final_count_mentions = final_count_mentions.append({'total country': val_3, 'number of mentions' : \"more than one million mentions\"}, ignore_index=True)\n",
    "# Save the result\n",
    "final_count_mentions.to_csv('count_mentions_by_interval.csv')\n",
    "\n",
    "final_count_mentions"
   ]
  },
  {
   "cell_type": "markdown",
   "metadata": {},
   "source": [
    "We can see that most of the countries have a number of mention between a hundred thousand and one million mentions. For the future results, we have to take care if one the five country that have less than ten thousand mentions are involved."
   ]
  },
  {
   "cell_type": "markdown",
   "metadata": {},
   "source": [
    "Now we are interested to see the count mentions for each country :"
   ]
  },
  {
   "cell_type": "code",
   "execution_count": 8,
   "metadata": {},
   "outputs": [
    {
     "data": {
      "text/html": [
       "<div>\n",
       "<style scoped>\n",
       "    .dataframe tbody tr th:only-of-type {\n",
       "        vertical-align: middle;\n",
       "    }\n",
       "\n",
       "    .dataframe tbody tr th {\n",
       "        vertical-align: top;\n",
       "    }\n",
       "\n",
       "    .dataframe thead th {\n",
       "        text-align: right;\n",
       "    }\n",
       "</style>\n",
       "<table border=\"1\" class=\"dataframe\">\n",
       "  <thead>\n",
       "    <tr style=\"text-align: right;\">\n",
       "      <th></th>\n",
       "      <th>count_mentions</th>\n",
       "    </tr>\n",
       "  </thead>\n",
       "  <tbody>\n",
       "    <tr>\n",
       "      <th>count</th>\n",
       "      <td>183.000000</td>\n",
       "    </tr>\n",
       "    <tr>\n",
       "      <th>mean</th>\n",
       "      <td>12.716447</td>\n",
       "    </tr>\n",
       "    <tr>\n",
       "      <th>std</th>\n",
       "      <td>1.742228</td>\n",
       "    </tr>\n",
       "    <tr>\n",
       "      <th>min</th>\n",
       "      <td>8.013012</td>\n",
       "    </tr>\n",
       "    <tr>\n",
       "      <th>25%</th>\n",
       "      <td>11.750615</td>\n",
       "    </tr>\n",
       "    <tr>\n",
       "      <th>50%</th>\n",
       "      <td>12.589544</td>\n",
       "    </tr>\n",
       "    <tr>\n",
       "      <th>75%</th>\n",
       "      <td>13.837362</td>\n",
       "    </tr>\n",
       "    <tr>\n",
       "      <th>max</th>\n",
       "      <td>18.718912</td>\n",
       "    </tr>\n",
       "  </tbody>\n",
       "</table>\n",
       "</div>"
      ],
      "text/plain": [
       "       count_mentions\n",
       "count      183.000000\n",
       "mean        12.716447\n",
       "std          1.742228\n",
       "min          8.013012\n",
       "25%         11.750615\n",
       "50%         12.589544\n",
       "75%         13.837362\n",
       "max         18.718912"
      ]
     },
     "execution_count": 8,
     "metadata": {},
     "output_type": "execute_result"
    }
   ],
   "source": [
    "# count the event by country\n",
    "\n",
    "# create a dataframe with two column, country and count_mentions\n",
    "count_mentions_by_country = pd.DataFrame(columns=['country','count_mentions'])\n",
    "# we take all the possible name for a country\n",
    "country = country_inner_view[\"country\"].values\n",
    "# for each country\n",
    "for i in country:\n",
    "        total_count_mention_i = country_outer_view[country_outer_view[\"country\"] == i][\"count_mentions\"].values + country_inner_view[\"count_mentions\"][country_inner_view[\"country\"] == i].values\n",
    "        count_mentions_by_country = count_mentions_by_country.append({'country': i, 'count_mentions' : math.log(total_count_mention_i)}, ignore_index=True)\n",
    "\n",
    "count_mentions_by_country['count_mentions'] = count_mentions_by_country['count_mentions'].astype(float)\n",
    "# Save the result\n",
    "count_mentions_by_country.to_csv('count_mentions_by_country.csv')\n",
    "\n",
    "count_mentions_by_country.describe()"
   ]
  },
  {
   "cell_type": "markdown",
   "metadata": {},
   "source": [
    "This dataframe shows us that countries in the African continent and South America tend to have less mentions than other country. In contrast, the United States is the country with the most mentions so it would be interessant to analyse the result of this country.\n",
    "\n"
   ]
  },
  {
   "cell_type": "markdown",
   "metadata": {},
   "source": [
    "If we take a look at the USA, we can notice that the average tone for the inner_view is -2.64 and the average tone for the outer view is -2.30. So our analyse will be on negative average tone. What’s more we see that more than 75 % of countries have more than one hundred thousand mentions so we decide to keep only those countries in order to avoid wrong interpretation as we mentioned. \n",
    "We decide to take only the entries that correspond to negative value of average tone and a count_mention greater than one hundred thousand.\n",
    "We use graph to see the different connexion between countries."
   ]
  },
  {
   "cell_type": "code",
   "execution_count": 30,
   "metadata": {},
   "outputs": [
    {
     "name": "stderr",
     "output_type": "stream",
     "text": [
      "/anaconda3/lib/python3.6/site-packages/ipykernel_launcher.py:1: UserWarning: Boolean Series key will be reindexed to match DataFrame index.\n",
      "  \"\"\"Entry point for launching an IPython kernel.\n"
     ]
    }
   ],
   "source": [
    "graphe_negative_avg = country_to_country_view[country_to_country_view[\"avg_tone\"] < 0][country_to_country_view[\"count_mentions\"] > 100000]\n",
    "graphe_negative_avg.head()\n",
    "graphe_negative_avg.to_csv(\"graphe_negative_avg.csv\")"
   ]
  },
  {
   "cell_type": "code",
   "execution_count": 31,
   "metadata": {},
   "outputs": [
    {
     "name": "stdout",
     "output_type": "stream",
     "text": [
      "Name: \n",
      "Type: Graph\n",
      "Number of nodes: 111\n",
      "Number of edges: 238\n",
      "Average degree:   4.2883\n"
     ]
    }
   ],
   "source": [
    "graphe_negative_avg =nx.from_pandas_edgelist(graphe_negative_avg, 'actor_country', 'mention_country', create_using=nx.Graph())\n",
    "print(nx.info(graphe_negative_avg))"
   ]
  },
  {
   "cell_type": "code",
   "execution_count": 32,
   "metadata": {},
   "outputs": [
    {
     "data": {
      "image/png": "[encoded data removed]",
      "text/plain": [
       "<Figure size 432x288 with 1 Axes>"
      ]
     },
     "metadata": {},
     "output_type": "display_data"
    }
   ],
   "source": [
    "# plot it out\n",
    "pos = nx.spring_layout(graphe_negative_avg,k=0.2)\n",
    "ec = nx.draw_networkx_edges(graphe_negative_avg, pos, alpha=0.1)\n",
    "nc = nx.draw_networkx_nodes(graphe_negative_avg, pos, nodelist=graphe_negative_avg.nodes(), node_color='g', cmap=plt.cm.jet, node_shape='.')\n",
    "plt.axis('off')\n",
    "plt.savefig('graph_negative_avg.png')\n",
    "plt.show()"
   ]
  },
  {
   "cell_type": "markdown",
   "metadata": {},
   "source": [
    "We observe that there is a country in the center of the graph with a lot of edges. This country is the United States. This means that for more than one hundred thousand mentions, a lot of country mentions negatively the USA."
   ]
  },
  {
   "cell_type": "code",
   "execution_count": 45,
   "metadata": {},
   "outputs": [
    {
     "data": {
      "image/png": "[encoded data removed]",
      "text/plain": [
       "<Figure size 432x288 with 1 Axes>"
      ]
     },
     "metadata": {},
     "output_type": "display_data"
    }
   ],
   "source": [
    "subgraph_USA = graphe_negative_avg.subgraph(['United States']+list(graphe_negative_avg.neighbors('United States')))\n",
    "nx.draw_spring(subgraph_USA, with_labels=True, node_size=500,font_size=7, width=0.2 , node_shape=\"h\" ,linewidths=1, style='dotted')\n",
    "country_negative_USA = np.asarray(subgraph_USA.node)\n",
    "df = pd.DataFrame(country_negative_USA)\n",
    "df.to_csv('country_negative_USA.csv')"
   ]
  },
  {
   "cell_type": "code",
   "execution_count": 34,
   "metadata": {},
   "outputs": [
    {
     "data": {
      "text/plain": [
       "111"
      ]
     },
     "execution_count": 34,
     "metadata": {},
     "output_type": "execute_result"
    }
   ],
   "source": [
    "degrees = dict(subgraph_USA.degree(subgraph_USA.nodes()))\n",
    "degrees['United States']"
   ]
  },
  {
   "cell_type": "markdown",
   "metadata": {},
   "source": [
    "We can see that 111 countries talk about USA negatively with more than one hundred thousand mentions , that is huge."
   ]
  },
  {
   "cell_type": "code",
   "execution_count": 47,
   "metadata": {},
   "outputs": [
    {
     "name": "stdout",
     "output_type": "stream",
     "text": [
      "Name: \n",
      "Type: Graph\n",
      "Number of nodes: 30\n",
      "Number of edges: 38\n",
      "Average degree:   2.5333\n"
     ]
    },
    {
     "name": "stderr",
     "output_type": "stream",
     "text": [
      "/anaconda3/lib/python3.6/site-packages/ipykernel_launcher.py:1: UserWarning: Boolean Series key will be reindexed to match DataFrame index.\n",
      "  \"\"\"Entry point for launching an IPython kernel.\n"
     ]
    }
   ],
   "source": [
    "graphe_negative_avg_story = country_to_country_view[country_to_country_view[\"avg_tone\"] < 0][country_to_country_view[\"count_mentions\"] > 1000000]\n",
    "graphe_negative_avg_story =nx.from_pandas_edgelist(graphe_negative_avg_story, 'actor_country', 'mention_country', create_using=nx.Graph())\n",
    "print(nx.info(graphe_negative_avg_story))"
   ]
  },
  {
   "cell_type": "code",
   "execution_count": 50,
   "metadata": {},
   "outputs": [
    {
     "data": {
      "image/png": "[encoded data removed]",
      "text/plain": [
       "<Figure size 432x288 with 1 Axes>"
      ]
     },
     "metadata": {},
     "output_type": "display_data"
    }
   ],
   "source": [
    "subgraph_USA_lite = graphe_negative_avg_story.subgraph(['United States']+list(graphe_negative_avg_story.neighbors('United States')))\n",
    "nx.draw_spring(subgraph_USA_lite, with_labels=True, node_size=500,font_size=7, width=0.2 , node_color='w' ,linewidths=1, style='dotted')\n",
    "country_negative_USA_lite = np.asarray(subgraph_USA_lite.node)\n",
    "plt.savefig('graph_USA.png')"
   ]
  },
  {
   "cell_type": "markdown",
   "metadata": {},
   "source": [
    "## Difference between country_outer_view and country_inner_view for each country \n"
   ]
  },
  {
   "cell_type": "code",
   "execution_count": null,
   "metadata": {},
   "outputs": [],
   "source": [
    "# create a dataframe with two column, actor_country and difference\n",
    "difference_by_country = pd.DataFrame(columns=['actor_country','difference'])\n",
    "# we take all the possible name for a country\n",
    "country = country_inner_view[\"country\"].values\n",
    "# for each country\n",
    "for i in country:\n",
    "        difference = country_outer_view[country_outer_view[\"country\"] == i][\"avg_tone\"].values - country_inner_view[\"avg_tone\"][country_inner_view[\"country\"] == i].values\n",
    "        difference_by_country = difference_by_country.append({'actor_country': i, 'difference' : difference}, ignore_index=True)\n",
    "\n",
    "        \n",
    "difference_by_country['difference'] = difference_by_country['difference'].astype(float)\n",
    "#save result\n",
    "difference_by_country.to_csv('difference_by_country.csv')\n",
    "difference_by_country.head()"
   ]
  },
  {
   "cell_type": "markdown",
   "metadata": {},
   "source": [
    "A negative difference means that the country has a better reputation in this country than from outside"
   ]
  },
  {
   "cell_type": "code",
   "execution_count": null,
   "metadata": {},
   "outputs": [],
   "source": [
    "difference_by_country.describe()"
   ]
  },
  {
   "cell_type": "code",
   "execution_count": null,
   "metadata": {},
   "outputs": [],
   "source": [
    "#plot histogram\n",
    "plt.hist(difference_by_country[\"difference\"])\n",
    "plt.xlabel('Difference between country_outer_view and country_inner_view for each country')\n",
    "plt.ylabel('nombres')"
   ]
  },
  {
   "cell_type": "markdown",
   "metadata": {},
   "source": [
    "We can see that the histogram seems to be an histogram of a gaussian distribution. If we use describe we observe that the mean is -1.73 and the std is 1.78."
   ]
  },
  {
   "cell_type": "markdown",
   "metadata": {},
   "source": [
    "We take a look for the country who have a better inner view than outer view :"
   ]
  },
  {
   "cell_type": "code",
   "execution_count": null,
   "metadata": {},
   "outputs": [],
   "source": [
    "difference_by_country[difference_by_country[\"difference\"] > 0]"
   ]
  },
  {
   "cell_type": "markdown",
   "metadata": {},
   "source": [
    "Only 19 countries have a better reputation from outside than inside."
   ]
  },
  {
   "cell_type": "code",
   "execution_count": null,
   "metadata": {},
   "outputs": [],
   "source": [
    "(difference_by_country[difference_by_country[\"difference\"] < 0].count() [0] /  difference_by_country[\"difference\"].count()) *100"
   ]
  },
  {
   "cell_type": "markdown",
   "metadata": {},
   "source": [
    "90% of the coutry have better  image of them compared to the think of the other countries."
   ]
  },
  {
   "cell_type": "code",
   "execution_count": null,
   "metadata": {},
   "outputs": [],
   "source": []
  },
  {
   "cell_type": "markdown",
   "metadata": {},
   "source": [
    "# Test christophe "
   ]
  },
  {
   "cell_type": "markdown",
   "metadata": {},
   "source": [
    "We can see that for mention_country United States appears 14 times !"
   ]
  },
  {
   "cell_type": "code",
   "execution_count": null,
   "metadata": {},
   "outputs": [],
   "source": [
    "most_count_mentions_USA = most_count_mentions[most_count_mentions[\"mention_country\"] == \"United States\"]\n",
    "most_count_mentions_USA"
   ]
  },
  {
   "cell_type": "markdown",
   "metadata": {},
   "source": [
    "We can see that for actor_country Asia, Europe , North and South America are represented."
   ]
  },
  {
   "cell_type": "code",
   "execution_count": null,
   "metadata": {},
   "outputs": [],
   "source": [
    "plt.plot(most_count_mentions_USA[\"actor_country\"],most_count_mentions_USA[\"avg_tone\"] , 'ro')\n",
    "axes = plt.gca()\n",
    "plt.title('Avg_tone for USA according to the country that mentions 2 Millions times')\n",
    "axes.set_xlim(-1, 14)\n",
    "axes.set_ylim(-6, 0)\n",
    "axes.xaxis.set_ticklabels(['Russia', 'Iran', 'China', 'USA',\n",
    "                           'Syria','Turkey','Iraq','France',\n",
    "                          'Germany','Mexico','Israel',\n",
    "                          'Japan','UK','Canada'], rotation = 30, color = 'black', fontsize = 10, style = 'italic', verticalalignment = 'center')\n",
    "plt.show()"
   ]
  },
  {
   "cell_type": "code",
   "execution_count": null,
   "metadata": {},
   "outputs": [],
   "source": [
    "country_inner_view[country_inner_view[\"country\"] == \"United States\"]"
   ]
  },
  {
   "cell_type": "code",
   "execution_count": null,
   "metadata": {},
   "outputs": [],
   "source": [
    "country_outer_view[country_outer_view[\"country\"] == \"United States\"]"
   ]
  },
  {
   "cell_type": "code",
   "execution_count": null,
   "metadata": {},
   "outputs": [],
   "source": [
    "a = most_count_mentions_USA[[\"stddev_tone\",\"avg_tone\"]]\n",
    "#a.values\n",
    "kmeans = KMeans(n_clusters=3, random_state=0).fit(a.values)\n",
    "d = {'actor_country': most_count_mentions_USA[\"actor_country\"], 'labels': kmeans.labels_ , 'continent': [\"Europe\",\"Asia\",\"Asia\",\"Amerique\",\"Asia\",\"Asia\",\"Asia\",\"Europe\",\"Europe\",\"Amerique\",\"Asia\",\"Asia\",\"Europe\",\"Amerique\"] }\n",
    "df = pd.DataFrame(data=d)\n",
    "df"
   ]
  },
  {
   "cell_type": "code",
   "execution_count": null,
   "metadata": {},
   "outputs": [],
   "source": [
    "df[df[\"labels\"] == 2]"
   ]
  },
  {
   "cell_type": "code",
   "execution_count": null,
   "metadata": {},
   "outputs": [],
   "source": [
    "df[df[\"labels\"] == 1]"
   ]
  },
  {
   "cell_type": "code",
   "execution_count": null,
   "metadata": {},
   "outputs": [],
   "source": [
    "df[df[\"labels\"] == 0]"
   ]
  },
  {
   "cell_type": "markdown",
   "metadata": {},
   "source": [
    "### Test all country"
   ]
  },
  {
   "cell_type": "code",
   "execution_count": null,
   "metadata": {},
   "outputs": [],
   "source": [
    "mention_10000 = country_to_country_view[country_to_country_view[\"count_mentions\"] >10000]\n",
    "USA = mention_10000[mention_10000[\"mention_country\"] == \"United States\"]\n",
    "b = USA[[\"stddev_tone\",\"avg_tone\"]]\n",
    "kmeans = KMeans(n_clusters=10, random_state=0).fit(b.values)\n",
    "d = {'actor_country': USA[\"actor_country\"], 'labels': kmeans.labels_  }\n",
    "df = pd.DataFrame(data=d)\n",
    "df[df[\"labels\"] == 1]"
   ]
  },
  {
   "cell_type": "markdown",
   "metadata": {},
   "source": []
  },
  {
   "cell_type": "code",
   "execution_count": null,
   "metadata": {},
   "outputs": [],
   "source": []
  },
  {
   "cell_type": "markdown",
   "metadata": {},
   "source": [
    "To have a better visualization , we decide to use the Q-Q plot.It is a graphical method for comparing two probability distributions by plotting their quantiles against each other."
   ]
  },
  {
   "cell_type": "code",
   "execution_count": null,
   "metadata": {},
   "outputs": [],
   "source": [
    "stats.probplot(x, dist=\"norm\", plot=pylab)\n",
    "pylab.show()"
   ]
  },
  {
   "cell_type": "markdown",
   "metadata": {},
   "source": [
    "The linearity of the points suggests that the data are normally distributed."
   ]
  },
  {
   "cell_type": "code",
   "execution_count": null,
   "metadata": {},
   "outputs": [],
   "source": []
  },
  {
   "cell_type": "markdown",
   "metadata": {},
   "source": []
  },
  {
   "cell_type": "code",
   "execution_count": null,
   "metadata": {},
   "outputs": [],
   "source": []
  },
  {
   "cell_type": "markdown",
   "metadata": {},
   "source": []
  },
  {
   "cell_type": "code",
   "execution_count": null,
   "metadata": {},
   "outputs": [],
   "source": [
    "df[df[\"difference\"] < -4]"
   ]
  },
  {
   "cell_type": "markdown",
   "metadata": {},
   "source": [
    "Why such a difference ?"
   ]
  },
  {
   "cell_type": "code",
   "execution_count": null,
   "metadata": {},
   "outputs": [],
   "source": [
    "Anguilla = country_to_country_view[country_to_country_view[\"mention_country\"] == \"Anguilla\"]\n",
    "Anguilla[Anguilla[\"count_mentions\"] > 100 ]"
   ]
  },
  {
   "cell_type": "markdown",
   "metadata": {},
   "source": [
    "For Anguilla that is a British overseas territory in the Caribbean, we note that only three countries have spoken more than 100 times about this territory. The country that cited the most Anguilla it's Anguilla itself."
   ]
  },
  {
   "cell_type": "code",
   "execution_count": null,
   "metadata": {},
   "outputs": [],
   "source": [
    "Dominica = country_to_country_view[country_to_country_view[\"mention_country\"] == \"Dominica\"]\n",
    "Dominica[Dominica[\"count_mentions\"] > 200 ]"
   ]
  },
  {
   "cell_type": "code",
   "execution_count": null,
   "metadata": {},
   "outputs": [],
   "source": [
    "Turkmenistan = country_to_country_view[country_to_country_view[\"mention_country\"] == \"Turkmenistan\"]\n",
    "Turkmenistan[Turkmenistan[\"count_mentions\"] > 200 ]"
   ]
  },
  {
   "cell_type": "markdown",
   "metadata": {},
   "source": [
    "Same observation for Dominica and Turkmenistan, for instance the country that cited the most Dominica it's Dominica itself and only the USA cited Anguilla more than 200 times."
   ]
  },
  {
   "cell_type": "code",
   "execution_count": null,
   "metadata": {},
   "outputs": [],
   "source": [
    "Macedonia = country_to_country_view[country_to_country_view[\"mention_country\"] == \"Macedonia\"]\n",
    "Macedonia.describe()"
   ]
  },
  {
   "cell_type": "code",
   "execution_count": null,
   "metadata": {},
   "outputs": [],
   "source": [
    "Bahrain = country_to_country_view[country_to_country_view[\"mention_country\"] == \"Bahrain\"]\n",
    "Bahrain.describe()"
   ]
  },
  {
   "cell_type": "code",
   "execution_count": null,
   "metadata": {},
   "outputs": [],
   "source": [
    "Eritrea = country_to_country_view[country_to_country_view[\"mention_country\"] == \"Eritrea\"]\n",
    "Eritrea.describe()"
   ]
  },
  {
   "cell_type": "markdown",
   "metadata": {},
   "source": [
    "For Eritrea , Bahrain and Macedonia, the analysis is different. the difference of view within and outside this country is no longer due to a small count of event but rather in conflicts with others countries.\n",
    "\n",
    "This example shows that we have to be very carefull about the analysis of the data and all the countries that have a bad avg_tone are not necessarily in conflict. The lack of events can lead to misinterpretation."
   ]
  },
  {
   "cell_type": "code",
   "execution_count": null,
   "metadata": {},
   "outputs": [],
   "source": []
  },
  {
   "cell_type": "code",
   "execution_count": null,
   "metadata": {},
   "outputs": [],
   "source": []
  },
  {
   "cell_type": "code",
   "execution_count": null,
   "metadata": {},
   "outputs": [],
   "source": []
  },
  {
   "cell_type": "code",
   "execution_count": null,
   "metadata": {},
   "outputs": [],
   "source": []
  },
  {
   "cell_type": "code",
   "execution_count": null,
   "metadata": {},
   "outputs": [],
   "source": []
  },
  {
   "cell_type": "code",
   "execution_count": null,
   "metadata": {},
   "outputs": [],
   "source": []
  },
  {
   "cell_type": "code",
   "execution_count": null,
   "metadata": {},
   "outputs": [],
   "source": []
  },
  {
   "cell_type": "code",
   "execution_count": null,
   "metadata": {},
   "outputs": [],
   "source": []
  },
  {
   "cell_type": "code",
   "execution_count": null,
   "metadata": {},
   "outputs": [],
   "source": []
  },
  {
   "cell_type": "code",
   "execution_count": null,
   "metadata": {},
   "outputs": [],
   "source": []
  },
  {
   "cell_type": "code",
   "execution_count": null,
   "metadata": {},
   "outputs": [],
   "source": [
    "\n"
   ]
  },
  {
   "cell_type": "code",
   "execution_count": null,
   "metadata": {},
   "outputs": [],
   "source": []
  },
  {
   "cell_type": "code",
   "execution_count": null,
   "metadata": {},
   "outputs": [],
   "source": []
  },
  {
   "cell_type": "code",
   "execution_count": null,
   "metadata": {},
   "outputs": [],
   "source": []
  },
  {
   "cell_type": "code",
   "execution_count": null,
   "metadata": {},
   "outputs": [],
   "source": []
  }
 ],
 "metadata": {
  "kernelspec": {
   "display_name": "Python 3",
   "language": "python",
   "name": "python3"
  },
  "language_info": {
   "codemirror_mode": {
    "name": "ipython",
    "version": 3
   },
   "file_extension": ".py",
   "mimetype": "text/x-python",
   "name": "python",
   "nbconvert_exporter": "python",
   "pygments_lexer": "ipython3",
   "version": "3.6.5"
  }
 },
 "nbformat": 4,
 "nbformat_minor": 2
}
